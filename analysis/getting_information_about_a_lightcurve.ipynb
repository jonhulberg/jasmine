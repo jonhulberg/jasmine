{
 "cells": [
  {
   "cell_type": "code",
   "id": "initial_id",
   "metadata": {
    "collapsed": true,
    "ExecuteTime": {
     "end_time": "2024-04-26T17:57:50.832090Z",
     "start_time": "2024-04-26T17:57:50.384830Z"
    }
   },
   "source": "import files_organizer.lightcurve_cls as lc",
   "outputs": [],
   "execution_count": 1
  },
  {
   "metadata": {},
   "cell_type": "markdown",
   "source": "# How to use the lightcurve class",
   "id": "6ed686098dd2049b"
  },
  {
   "metadata": {},
   "cell_type": "markdown",
   "source": "## 1. Binary Star",
   "id": "c9de03e7016ea3c5"
  },
  {
   "metadata": {
    "ExecuteTime": {
     "end_time": "2024-04-26T17:57:50.870629Z",
     "start_time": "2024-04-26T17:57:50.834064Z"
    }
   },
   "cell_type": "code",
   "source": [
    "# Call the lightcurve class\n",
    "# Binary star\n",
    "the_lightcurve = lc.LightcurveEvent(2)"
   ],
   "id": "ecf60af598dc48e8",
   "outputs": [
    {
     "name": "stdout",
     "output_type": "stream",
     "text": [
      "Ligthcurve 2 found on binary_star.csv file.\n"
     ]
    }
   ],
   "execution_count": 2
  },
  {
   "metadata": {
    "ExecuteTime": {
     "end_time": "2024-04-26T17:57:50.875316Z",
     "start_time": "2024-04-26T17:57:50.872633Z"
    }
   },
   "cell_type": "code",
   "source": [
    "# See what are the available dictionaries\n",
    "the_lightcurve.print_dictionaries()"
   ],
   "id": "877d37d4cf371404",
   "outputs": [
    {
     "name": "stdout",
     "output_type": "stream",
     "text": [
      "Available Dictionaries:\n",
      "Event dictionary: event_dict\n",
      "Source dictionary: source_dict\n",
      "Weights and flags dictionary: weights_and_flags_dict\n",
      "Lens dictionary: lens_dict\n",
      "Microlensing Parameter dictionary: microlensing_dict\n",
      "Second lens dictionary: second_lens_dict\n"
     ]
    }
   ],
   "execution_count": 3
  },
  {
   "metadata": {
    "ExecuteTime": {
     "end_time": "2024-04-26T17:57:50.885262Z",
     "start_time": "2024-04-26T17:57:50.877268Z"
    }
   },
   "cell_type": "code",
   "source": [
    "# See the values for parameters on each dictionary\n",
    "the_lightcurve.lens_dict"
   ],
   "id": "c1186ebd2fc76397",
   "outputs": [
    {
     "data": {
      "text/plain": [
       "{'lens_id': 1867,\n",
       " 'lens_distance__kpc': 7.975,\n",
       " 'lens_system_mass__msun': 0.6779999999999999,\n",
       " 'lens_proper_motion_l_1masyr': -3.3412800000000002,\n",
       " 'lens_proper_motion_b_1masyr': 4.17862,\n",
       " 'lens_age': 10,\n",
       " 'lens_class': 5,\n",
       " 'lens_type': 6.5,\n",
       " 'lens_surface_gravity': 4.68,\n",
       " 'lens_bolometric_magnitude': 6.952999999999999,\n",
       " 'lens_effective_temperature__k': 4385,\n",
       " 'lens_radius__rsun': 0.614,\n",
       " 'lens_magnitude_J__mag': 21.4413,\n",
       " 'lens_magnitude_F087__mag': 22.0982,\n",
       " 'lens_magnitude_H__mag': 21.2247,\n",
       " 'lens_magnitude_W149__mag': 21.4254,\n",
       " 'lens_magnitude_W169__mag': 21.4312}"
      ]
     },
     "execution_count": 4,
     "metadata": {},
     "output_type": "execute_result"
    }
   ],
   "execution_count": 4
  },
  {
   "metadata": {
    "ExecuteTime": {
     "end_time": "2024-04-26T17:57:50.890321Z",
     "start_time": "2024-04-26T17:57:50.887122Z"
    }
   },
   "cell_type": "code",
   "source": [
    "# Get info from that dict\n",
    "the_lightcurve.lens_dict['lens_system_mass__msun']"
   ],
   "id": "ce1bfc49a1d9b22c",
   "outputs": [
    {
     "data": {
      "text/plain": [
       "0.6779999999999999"
      ]
     },
     "execution_count": 5,
     "metadata": {},
     "output_type": "execute_result"
    }
   ],
   "execution_count": 5
  },
  {
   "metadata": {
    "ExecuteTime": {
     "end_time": "2024-04-26T17:57:50.923261Z",
     "start_time": "2024-04-26T17:57:50.891733Z"
    }
   },
   "cell_type": "code",
   "source": [
    "# Get the lightcurve\n",
    "lightcurve_datapoints = the_lightcurve.lightcurve_data(filter_='W149', folder_path_='../data')\n",
    "lightcurve_datapoints"
   ],
   "id": "b0857d95e8bbacf2",
   "outputs": [
    {
     "data": {
      "text/plain": [
       "                BJD  Magnitude     Error          days\n",
       "0      2.458347e+06  19.471909  0.005137   8346.505461\n",
       "1      2.458347e+06  19.461181  0.005086   8346.515987\n",
       "2      2.458347e+06  19.460556  0.005083   8346.526513\n",
       "3      2.458347e+06  19.467930  0.005118   8346.537040\n",
       "4      2.458347e+06  19.463923  0.005099   8346.547566\n",
       "...             ...        ...       ...           ...\n",
       "38563  2.460059e+06  19.460060  0.005081  10059.199338\n",
       "38564  2.460059e+06  19.469885  0.005127  10059.209864\n",
       "38565  2.460059e+06  19.458983  0.005076  10059.220391\n",
       "38566  2.460059e+06  19.467453  0.005116  10059.230917\n",
       "38567  2.460059e+06  19.454644  0.005056  10059.241444\n",
       "\n",
       "[38568 rows x 4 columns]"
      ],
      "text/html": [
       "<div>\n",
       "<style scoped>\n",
       "    .dataframe tbody tr th:only-of-type {\n",
       "        vertical-align: middle;\n",
       "    }\n",
       "\n",
       "    .dataframe tbody tr th {\n",
       "        vertical-align: top;\n",
       "    }\n",
       "\n",
       "    .dataframe thead th {\n",
       "        text-align: right;\n",
       "    }\n",
       "</style>\n",
       "<table border=\"1\" class=\"dataframe\">\n",
       "  <thead>\n",
       "    <tr style=\"text-align: right;\">\n",
       "      <th></th>\n",
       "      <th>BJD</th>\n",
       "      <th>Magnitude</th>\n",
       "      <th>Error</th>\n",
       "      <th>days</th>\n",
       "    </tr>\n",
       "  </thead>\n",
       "  <tbody>\n",
       "    <tr>\n",
       "      <th>0</th>\n",
       "      <td>2.458347e+06</td>\n",
       "      <td>19.471909</td>\n",
       "      <td>0.005137</td>\n",
       "      <td>8346.505461</td>\n",
       "    </tr>\n",
       "    <tr>\n",
       "      <th>1</th>\n",
       "      <td>2.458347e+06</td>\n",
       "      <td>19.461181</td>\n",
       "      <td>0.005086</td>\n",
       "      <td>8346.515987</td>\n",
       "    </tr>\n",
       "    <tr>\n",
       "      <th>2</th>\n",
       "      <td>2.458347e+06</td>\n",
       "      <td>19.460556</td>\n",
       "      <td>0.005083</td>\n",
       "      <td>8346.526513</td>\n",
       "    </tr>\n",
       "    <tr>\n",
       "      <th>3</th>\n",
       "      <td>2.458347e+06</td>\n",
       "      <td>19.467930</td>\n",
       "      <td>0.005118</td>\n",
       "      <td>8346.537040</td>\n",
       "    </tr>\n",
       "    <tr>\n",
       "      <th>4</th>\n",
       "      <td>2.458347e+06</td>\n",
       "      <td>19.463923</td>\n",
       "      <td>0.005099</td>\n",
       "      <td>8346.547566</td>\n",
       "    </tr>\n",
       "    <tr>\n",
       "      <th>...</th>\n",
       "      <td>...</td>\n",
       "      <td>...</td>\n",
       "      <td>...</td>\n",
       "      <td>...</td>\n",
       "    </tr>\n",
       "    <tr>\n",
       "      <th>38563</th>\n",
       "      <td>2.460059e+06</td>\n",
       "      <td>19.460060</td>\n",
       "      <td>0.005081</td>\n",
       "      <td>10059.199338</td>\n",
       "    </tr>\n",
       "    <tr>\n",
       "      <th>38564</th>\n",
       "      <td>2.460059e+06</td>\n",
       "      <td>19.469885</td>\n",
       "      <td>0.005127</td>\n",
       "      <td>10059.209864</td>\n",
       "    </tr>\n",
       "    <tr>\n",
       "      <th>38565</th>\n",
       "      <td>2.460059e+06</td>\n",
       "      <td>19.458983</td>\n",
       "      <td>0.005076</td>\n",
       "      <td>10059.220391</td>\n",
       "    </tr>\n",
       "    <tr>\n",
       "      <th>38566</th>\n",
       "      <td>2.460059e+06</td>\n",
       "      <td>19.467453</td>\n",
       "      <td>0.005116</td>\n",
       "      <td>10059.230917</td>\n",
       "    </tr>\n",
       "    <tr>\n",
       "      <th>38567</th>\n",
       "      <td>2.460059e+06</td>\n",
       "      <td>19.454644</td>\n",
       "      <td>0.005056</td>\n",
       "      <td>10059.241444</td>\n",
       "    </tr>\n",
       "  </tbody>\n",
       "</table>\n",
       "<p>38568 rows × 4 columns</p>\n",
       "</div>"
      ]
     },
     "execution_count": 6,
     "metadata": {},
     "output_type": "execute_result"
    }
   ],
   "execution_count": 6
  },
  {
   "metadata": {
    "ExecuteTime": {
     "end_time": "2024-04-26T17:57:51.197722Z",
     "start_time": "2024-04-26T17:57:50.925072Z"
    }
   },
   "cell_type": "code",
   "source": [
    "# plotting\n",
    "import matplotlib.pyplot as plt\n",
    "plt.plot(lightcurve_datapoints['days'], lightcurve_datapoints['Magnitude'], 'o')\n",
    "plt.gca().invert_yaxis()"
   ],
   "id": "df0a4513e5421f08",
   "outputs": [
    {
     "data": {
      "text/plain": [
       "<Figure size 432x288 with 1 Axes>"
      ],
      "image/png": "[encoded data removed]"
     },
     "metadata": {
      "needs_background": "light"
     },
     "output_type": "display_data"
    }
   ],
   "execution_count": 7
  },
  {
   "metadata": {},
   "cell_type": "markdown",
   "source": "## 2. Bound Planet",
   "id": "ff0939b86719be77"
  },
  {
   "metadata": {
    "ExecuteTime": {
     "end_time": "2024-04-26T17:57:51.236518Z",
     "start_time": "2024-04-26T17:57:51.199001Z"
    }
   },
   "cell_type": "code",
   "source": [
    "# Same as binary\n",
    "the_lightcurve = lc.LightcurveEvent(4)"
   ],
   "id": "b6edf62c6215fd99",
   "outputs": [
    {
     "name": "stdout",
     "output_type": "stream",
     "text": [
      "Ligthcurve 4 found on bound_planet.csv file.\n"
     ]
    }
   ],
   "execution_count": 8
  },
  {
   "metadata": {
    "ExecuteTime": {
     "end_time": "2024-04-26T17:57:51.243466Z",
     "start_time": "2024-04-26T17:57:51.240218Z"
    }
   },
   "cell_type": "code",
   "source": "the_lightcurve.print_dictionaries()",
   "id": "d9f3c66f9295b684",
   "outputs": [
    {
     "name": "stdout",
     "output_type": "stream",
     "text": [
      "Available Dictionaries:\n",
      "Event dictionary: event_dict\n",
      "Source dictionary: source_dict\n",
      "Weights and flags dictionary: weights_and_flags_dict\n",
      "Lens dictionary: lens_dict\n",
      "Microlensing Parameter dictionary: microlensing_dict\n",
      "Planet dictionary: planet_dict\n"
     ]
    }
   ],
   "execution_count": 9
  },
  {
   "metadata": {
    "ExecuteTime": {
     "end_time": "2024-04-26T17:57:51.250561Z",
     "start_time": "2024-04-26T17:57:51.246476Z"
    }
   },
   "cell_type": "code",
   "source": "the_lightcurve.planet_dict",
   "id": "d8300ce1a197a249",
   "outputs": [
    {
     "data": {
      "text/plain": [
       "{'planet_mass__msun': 0.00273006,\n",
       " 'planet_semi_major_axis__au': 49.2163,\n",
       " 'planet_inclination__deg': 83.7988,\n",
       " 'planet_orbital_phase': 270.63,\n",
       " 'planet_mass_ratio': 0.010920200000000001,\n",
       " 'planet_separation': 2.48124,\n",
       " 'planet_orbital_period__years': 686.808}"
      ]
     },
     "execution_count": 10,
     "metadata": {},
     "output_type": "execute_result"
    }
   ],
   "execution_count": 10
  },
  {
   "metadata": {
    "ExecuteTime": {
     "end_time": "2024-04-26T17:57:51.255280Z",
     "start_time": "2024-04-26T17:57:51.251881Z"
    }
   },
   "cell_type": "code",
   "source": "the_lightcurve.planet_dict['planet_separation']",
   "id": "319914bea655872",
   "outputs": [
    {
     "data": {
      "text/plain": [
       "2.48124"
      ]
     },
     "execution_count": 11,
     "metadata": {},
     "output_type": "execute_result"
    }
   ],
   "execution_count": 11
  },
  {
   "metadata": {
    "ExecuteTime": {
     "end_time": "2024-04-26T17:57:51.280046Z",
     "start_time": "2024-04-26T17:57:51.256882Z"
    }
   },
   "cell_type": "code",
   "source": "lightcurve_datapoints = the_lightcurve.lightcurve_data(filter_='W149', folder_path_='../data')",
   "id": "8adb99cf960b9b3",
   "outputs": [],
   "execution_count": 12
  },
  {
   "metadata": {
    "ExecuteTime": {
     "end_time": "2024-04-26T17:57:51.449988Z",
     "start_time": "2024-04-26T17:57:51.282303Z"
    }
   },
   "cell_type": "code",
   "source": [
    "plt.plot(lightcurve_datapoints['days'], lightcurve_datapoints['Magnitude'], 'o')\n",
    "plt.gca().invert_yaxis()"
   ],
   "id": "a5f1618618d09383",
   "outputs": [
    {
     "data": {
      "text/plain": [
       "<Figure size 432x288 with 1 Axes>"
      ],
      "image/png": "[encoded data removed]"
     },
     "metadata": {
      "needs_background": "light"
     },
     "output_type": "display_data"
    }
   ],
   "execution_count": 13
  },
  {
   "metadata": {},
   "cell_type": "markdown",
   "source": "## 3. Single lens",
   "id": "c49536fc1b5488e0"
  },
  {
   "metadata": {
    "ExecuteTime": {
     "end_time": "2024-04-26T17:57:51.492279Z",
     "start_time": "2024-04-26T17:57:51.451528Z"
    }
   },
   "cell_type": "code",
   "source": "the_lightcurve = lc.LightcurveEvent(5)",
   "id": "52641d96cd8cf6b3",
   "outputs": [
    {
     "name": "stdout",
     "output_type": "stream",
     "text": [
      "Ligthcurve 5 found on single_lens.csv file.\n"
     ]
    }
   ],
   "execution_count": 14
  },
  {
   "metadata": {
    "ExecuteTime": {
     "end_time": "2024-04-26T17:57:51.497617Z",
     "start_time": "2024-04-26T17:57:51.494352Z"
    }
   },
   "cell_type": "code",
   "source": "the_lightcurve.print_dictionaries()",
   "id": "3902028f2d9a776c",
   "outputs": [
    {
     "name": "stdout",
     "output_type": "stream",
     "text": [
      "Available Dictionaries:\n",
      "Event dictionary: event_dict\n",
      "Source dictionary: source_dict\n",
      "Weights and flags dictionary: weights_and_flags_dict\n",
      "Lens dictionary: lens_dict\n",
      "Microlensing Parameter dictionary: microlensing_dict\n"
     ]
    }
   ],
   "execution_count": 15
  },
  {
   "metadata": {
    "ExecuteTime": {
     "end_time": "2024-04-26T17:57:51.503230Z",
     "start_time": "2024-04-26T17:57:51.499405Z"
    }
   },
   "cell_type": "code",
   "source": "the_lightcurve.event_dict",
   "id": "8ce7963131488262",
   "outputs": [
    {
     "data": {
      "text/plain": [
       "{'event_index': 1694,\n",
       " 'event_subrun': 0,\n",
       " 'event_field': 82,\n",
       " 'event_galactic_longitude': 1.17028,\n",
       " 'event_galactic_latitude': -2.2694400000000003,\n",
       " 'event_right_ascension': 269.319,\n",
       " 'event_declination': -29.0889}"
      ]
     },
     "execution_count": 16,
     "metadata": {},
     "output_type": "execute_result"
    }
   ],
   "execution_count": 16
  },
  {
   "metadata": {
    "ExecuteTime": {
     "end_time": "2024-04-26T17:57:51.521951Z",
     "start_time": "2024-04-26T17:57:51.505335Z"
    }
   },
   "cell_type": "code",
   "source": "lightcurve_datapoints = the_lightcurve.lightcurve_data(filter_='W149', folder_path_='../data')",
   "id": "401e29e6c6ba90a7",
   "outputs": [],
   "execution_count": 17
  },
  {
   "metadata": {
    "ExecuteTime": {
     "end_time": "2024-04-26T17:57:51.693964Z",
     "start_time": "2024-04-26T17:57:51.523354Z"
    }
   },
   "cell_type": "code",
   "source": [
    "plt.plot(lightcurve_datapoints['days'], lightcurve_datapoints['Magnitude'], 'o')\n",
    "plt.gca().invert_yaxis()"
   ],
   "id": "eaca8c2d2736ee22",
   "outputs": [
    {
     "data": {
      "text/plain": [
       "<Figure size 432x288 with 1 Axes>"
      ],
      "image/png": "[encoded data removed]"
     },
     "metadata": {
      "needs_background": "light"
     },
     "output_type": "display_data"
    }
   ],
   "execution_count": 18
  },
  {
   "metadata": {},
   "cell_type": "markdown",
   "source": "## 4.Cataclysmic variables",
   "id": "857609d12bb4f192"
  },
  {
   "metadata": {
    "ExecuteTime": {
     "end_time": "2024-04-26T17:57:51.733737Z",
     "start_time": "2024-04-26T17:57:51.695719Z"
    }
   },
   "cell_type": "code",
   "source": "the_lightcurve = lc.LightcurveEvent(1)",
   "id": "1436841d5e7315e3",
   "outputs": [
    {
     "name": "stdout",
     "output_type": "stream",
     "text": [
      "Ligthcurve 1 found on cataclysmic_variables.csv file.\n"
     ]
    }
   ],
   "execution_count": 19
  },
  {
   "metadata": {
    "ExecuteTime": {
     "end_time": "2024-04-26T17:57:51.737834Z",
     "start_time": "2024-04-26T17:57:51.735079Z"
    }
   },
   "cell_type": "code",
   "source": "the_lightcurve.print_dictionaries()",
   "id": "e000450ac166c9de",
   "outputs": [
    {
     "name": "stdout",
     "output_type": "stream",
     "text": [
      "Available Dictionaries:\n",
      "Event dictionary: event_dict\n",
      "Source dictionary: source_dict\n",
      "Weights and flags dictionary: weights_and_flags_dict\n"
     ]
    }
   ],
   "execution_count": 20
  },
  {
   "metadata": {
    "ExecuteTime": {
     "end_time": "2024-04-26T17:57:51.742510Z",
     "start_time": "2024-04-26T17:57:51.739069Z"
    }
   },
   "cell_type": "code",
   "source": "the_lightcurve.source_dict",
   "id": "9b7512bba8201d71",
   "outputs": [
    {
     "data": {
      "text/plain": [
       "{'source_id': 3966,\n",
       " 'source_distance__kpc': 10.384,\n",
       " 'source_radius__rsun': 0.8220000000000001,\n",
       " 'source_proper_motion_l_1masyr': -13.6637,\n",
       " 'source_proper_motion_b_1masyr': 0.00876737,\n",
       " 'source_age': 10,\n",
       " 'source_class': 5,\n",
       " 'source_type': 6.0,\n",
       " 'source_magnitude_J__mag': 21.3529,\n",
       " 'source_magnitude_F087__mag': 21.9598,\n",
       " 'source_magnitude_H__mag': 21.1398,\n",
       " 'source_magnitude_W149__mag': 21.3249,\n",
       " 'source_magnitude_W169__mag': 21.3108}"
      ]
     },
     "execution_count": 21,
     "metadata": {},
     "output_type": "execute_result"
    }
   ],
   "execution_count": 21
  },
  {
   "metadata": {
    "ExecuteTime": {
     "end_time": "2024-04-26T17:57:51.918725Z",
     "start_time": "2024-04-26T17:57:51.743782Z"
    }
   },
   "cell_type": "code",
   "source": [
    "lightcurve_datapoints = the_lightcurve.lightcurve_data(filter_='W149', folder_path_='../data')\n",
    "plt.plot(lightcurve_datapoints['days'], lightcurve_datapoints['Magnitude'], 'o')\n",
    "plt.gca().invert_yaxis()"
   ],
   "id": "eb2f2ed162014e06",
   "outputs": [
    {
     "data": {
      "text/plain": [
       "<Figure size 432x288 with 1 Axes>"
      ],
      "image/png": "[encoded data removed]"
     },
     "metadata": {
      "needs_background": "light"
     },
     "output_type": "display_data"
    }
   ],
   "execution_count": 22
  }
 ],
 "metadata": {
  "kernelspec": {
   "display_name": "Python (jasmine_env)",
   "language": "python",
   "name": "jasmine_env"
  },
  "language_info": {
   "codemirror_mode": {
    "name": "ipython",
    "version": 2
   },
   "file_extension": ".py",
   "mimetype": "text/x-python",
   "name": "python",
   "nbconvert_exporter": "python",
   "pygments_lexer": "ipython2",
   "version": "2.7.6"
  }
 },
 "nbformat": 4,
 "nbformat_minor": 5
}
