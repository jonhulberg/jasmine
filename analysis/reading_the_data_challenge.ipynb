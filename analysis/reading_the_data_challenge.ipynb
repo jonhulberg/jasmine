{
 "cells": [
  {
   "metadata": {},
   "cell_type": "markdown",
   "source": "# Data Challenge Reader",
   "id": "7728f37da154dfd0"
  },
  {
   "metadata": {
    "ExecuteTime": {
     "end_time": "2024-05-01T23:07:23.440709Z",
     "start_time": "2024-05-01T23:07:22.571335Z"
    }
   },
   "cell_type": "code",
   "source": [
    "import files_organizer.data_challenge_reader as dcr\n",
    "import numpy as np\n",
    "import matplotlib.pyplot as plt\n",
    "%matplotlib inline"
   ],
   "id": "18d087b18238cd5c",
   "outputs": [],
   "execution_count": 1
  },
  {
   "metadata": {
    "ExecuteTime": {
     "end_time": "2024-05-01T23:07:23.445347Z",
     "start_time": "2024-05-01T23:07:23.442723Z"
    }
   },
   "cell_type": "code",
   "source": [
    "# set where your master files are\n",
    "binary_star_master_path='../data/binary_star.csv'\n",
    "bound_planet_master_path='../data/bound_planet.csv'\n",
    "cataclysmic_variables_master_path='../data/cataclysmic_variables.csv'\n",
    "single_lens_master_path='../data/single_lens.csv'"
   ],
   "id": "78c7ee7606d9810d",
   "outputs": [],
   "execution_count": 2
  },
  {
   "metadata": {},
   "cell_type": "markdown",
   "source": "## Getting the event type of lightcurve",
   "id": "1571b9064fef64b5"
  },
  {
   "metadata": {
    "ExecuteTime": {
     "end_time": "2024-05-01T23:07:23.465761Z",
     "start_time": "2024-05-01T23:07:23.446716Z"
    }
   },
   "cell_type": "code",
   "source": [
    "# get the type of lightcurve\n",
    "lc_type = dcr.what_type_of_lightcurve(2, \n",
    "                                      binary_star_path_=binary_star_master_path,\n",
    "                                      bound_planet_path_=bound_planet_master_path,\n",
    "                                      cataclysmic_variables_path_=cataclysmic_variables_master_path,\n",
    "                                      single_lens_path_=single_lens_master_path)"
   ],
   "id": "ecde45d13de99ce9",
   "outputs": [
    {
     "name": "stdout",
     "output_type": "stream",
     "text": [
      "Ligthcurve 2 found on binary_star.csv file.\n"
     ]
    }
   ],
   "execution_count": 3
  },
  {
   "metadata": {
    "ExecuteTime": {
     "end_time": "2024-05-01T23:07:23.471523Z",
     "start_time": "2024-05-01T23:07:23.467070Z"
    }
   },
   "cell_type": "code",
   "source": "lc_type",
   "id": "18bc85a8c99a7337",
   "outputs": [
    {
     "data": {
      "text/plain": [
       "'binary_star'"
      ]
     },
     "execution_count": 4,
     "metadata": {},
     "output_type": "execute_result"
    }
   ],
   "execution_count": 4
  },
  {
   "metadata": {},
   "cell_type": "markdown",
   "source": "## Reading each of the four master files",
   "id": "d1c4ea2262f6064"
  },
  {
   "metadata": {
    "ExecuteTime": {
     "end_time": "2024-05-01T23:07:23.491756Z",
     "start_time": "2024-05-01T23:07:23.474117Z"
    }
   },
   "cell_type": "code",
   "source": [
    "# read the master files\n",
    "binary_star_master_df = dcr.binary_star_master_reader(binary_star_master_path)\n",
    "bound_planet_master_df = dcr.bound_planet_master_reader(bound_planet_master_path)\n",
    "cataclysmic_variables_master_df = dcr.cataclysmic_variables_master_reader(cataclysmic_variables_master_path)\n",
    "single_lens_master_df = dcr.single_lens_master_reader(single_lens_master_path)"
   ],
   "id": "a559275ca7c88450",
   "outputs": [],
   "execution_count": 5
  },
  {
   "metadata": {
    "ExecuteTime": {
     "end_time": "2024-05-01T23:07:23.508725Z",
     "start_time": "2024-05-01T23:07:23.492983Z"
    }
   },
   "cell_type": "code",
   "source": [
    "# Example of one of the master files\n",
    "binary_star_master_df.head()"
   ],
   "id": "a89984a6b3be8dcc",
   "outputs": [
    {
     "data": {
      "text/plain": [
       "   idx  subrun  field         l         b       ra      dec  src_id      Ds  \\\n",
       "0   18       0     52  0.489318 -3.300210  269.959 -30.1918    3356  10.572   \n",
       "1    2       0     88  1.110600 -0.604929  267.649 -28.2978   13758   8.368   \n",
       "2   13       0     33  0.182555 -1.523650  268.010 -29.5647    4661  11.684   \n",
       "3  488       0     73  0.738321 -1.213380  268.028 -28.9286   18445   9.426   \n",
       "4  308       0     33  0.029591 -1.474420  267.871 -29.6712    4672  11.858   \n",
       "\n",
       "      Rs  ...  flatsatFlag  flatchi2      chi2_0  chi2_1         chi2  \\\n",
       "0  0.999  ...            0         0     88076.6       0      348.477   \n",
       "1  0.212  ...            0         0    510389.0       1    19601.100   \n",
       "2  1.370  ...            0         0  95373400.0       0    13811.200   \n",
       "3  0.328  ...            0         0    314650.0       0    88887.500   \n",
       "4  1.780  ...            0         0   8532560.0       0  2543740.000   \n",
       "\n",
       "       normw  event_type  unimportant0         lc_root  \\\n",
       "0   2.059163       ombin      0.462222   ombin_0_52_18   \n",
       "1   5.339760       ombin      0.904826    ombin_0_88_2   \n",
       "2   3.725754       ombin      0.243043   ombin_0_33_13   \n",
       "3  10.194825       ombin      0.760807  ombin_0_73_488   \n",
       "4  10.510452       ombin      0.271423  ombin_0_33_308   \n",
       "\n",
       "   data_challenge_lc_number  \n",
       "0                         2  \n",
       "1                         6  \n",
       "2                         9  \n",
       "3                        14  \n",
       "4                        18  \n",
       "\n",
       "[5 rows x 71 columns]"
      ],
      "text/html": [
       "<div>\n",
       "<style scoped>\n",
       "    .dataframe tbody tr th:only-of-type {\n",
       "        vertical-align: middle;\n",
       "    }\n",
       "\n",
       "    .dataframe tbody tr th {\n",
       "        vertical-align: top;\n",
       "    }\n",
       "\n",
       "    .dataframe thead th {\n",
       "        text-align: right;\n",
       "    }\n",
       "</style>\n",
       "<table border=\"1\" class=\"dataframe\">\n",
       "  <thead>\n",
       "    <tr style=\"text-align: right;\">\n",
       "      <th></th>\n",
       "      <th>idx</th>\n",
       "      <th>subrun</th>\n",
       "      <th>field</th>\n",
       "      <th>l</th>\n",
       "      <th>b</th>\n",
       "      <th>ra</th>\n",
       "      <th>dec</th>\n",
       "      <th>src_id</th>\n",
       "      <th>Ds</th>\n",
       "      <th>Rs</th>\n",
       "      <th>...</th>\n",
       "      <th>flatsatFlag</th>\n",
       "      <th>flatchi2</th>\n",
       "      <th>chi2_0</th>\n",
       "      <th>chi2_1</th>\n",
       "      <th>chi2</th>\n",
       "      <th>normw</th>\n",
       "      <th>event_type</th>\n",
       "      <th>unimportant0</th>\n",
       "      <th>lc_root</th>\n",
       "      <th>data_challenge_lc_number</th>\n",
       "    </tr>\n",
       "  </thead>\n",
       "  <tbody>\n",
       "    <tr>\n",
       "      <th>0</th>\n",
       "      <td>18</td>\n",
       "      <td>0</td>\n",
       "      <td>52</td>\n",
       "      <td>0.489318</td>\n",
       "      <td>-3.300210</td>\n",
       "      <td>269.959</td>\n",
       "      <td>-30.1918</td>\n",
       "      <td>3356</td>\n",
       "      <td>10.572</td>\n",
       "      <td>0.999</td>\n",
       "      <td>...</td>\n",
       "      <td>0</td>\n",
       "      <td>0</td>\n",
       "      <td>88076.6</td>\n",
       "      <td>0</td>\n",
       "      <td>348.477</td>\n",
       "      <td>2.059163</td>\n",
       "      <td>ombin</td>\n",
       "      <td>0.462222</td>\n",
       "      <td>ombin_0_52_18</td>\n",
       "      <td>2</td>\n",
       "    </tr>\n",
       "    <tr>\n",
       "      <th>1</th>\n",
       "      <td>2</td>\n",
       "      <td>0</td>\n",
       "      <td>88</td>\n",
       "      <td>1.110600</td>\n",
       "      <td>-0.604929</td>\n",
       "      <td>267.649</td>\n",
       "      <td>-28.2978</td>\n",
       "      <td>13758</td>\n",
       "      <td>8.368</td>\n",
       "      <td>0.212</td>\n",
       "      <td>...</td>\n",
       "      <td>0</td>\n",
       "      <td>0</td>\n",
       "      <td>510389.0</td>\n",
       "      <td>1</td>\n",
       "      <td>19601.100</td>\n",
       "      <td>5.339760</td>\n",
       "      <td>ombin</td>\n",
       "      <td>0.904826</td>\n",
       "      <td>ombin_0_88_2</td>\n",
       "      <td>6</td>\n",
       "    </tr>\n",
       "    <tr>\n",
       "      <th>2</th>\n",
       "      <td>13</td>\n",
       "      <td>0</td>\n",
       "      <td>33</td>\n",
       "      <td>0.182555</td>\n",
       "      <td>-1.523650</td>\n",
       "      <td>268.010</td>\n",
       "      <td>-29.5647</td>\n",
       "      <td>4661</td>\n",
       "      <td>11.684</td>\n",
       "      <td>1.370</td>\n",
       "      <td>...</td>\n",
       "      <td>0</td>\n",
       "      <td>0</td>\n",
       "      <td>95373400.0</td>\n",
       "      <td>0</td>\n",
       "      <td>13811.200</td>\n",
       "      <td>3.725754</td>\n",
       "      <td>ombin</td>\n",
       "      <td>0.243043</td>\n",
       "      <td>ombin_0_33_13</td>\n",
       "      <td>9</td>\n",
       "    </tr>\n",
       "    <tr>\n",
       "      <th>3</th>\n",
       "      <td>488</td>\n",
       "      <td>0</td>\n",
       "      <td>73</td>\n",
       "      <td>0.738321</td>\n",
       "      <td>-1.213380</td>\n",
       "      <td>268.028</td>\n",
       "      <td>-28.9286</td>\n",
       "      <td>18445</td>\n",
       "      <td>9.426</td>\n",
       "      <td>0.328</td>\n",
       "      <td>...</td>\n",
       "      <td>0</td>\n",
       "      <td>0</td>\n",
       "      <td>314650.0</td>\n",
       "      <td>0</td>\n",
       "      <td>88887.500</td>\n",
       "      <td>10.194825</td>\n",
       "      <td>ombin</td>\n",
       "      <td>0.760807</td>\n",
       "      <td>ombin_0_73_488</td>\n",
       "      <td>14</td>\n",
       "    </tr>\n",
       "    <tr>\n",
       "      <th>4</th>\n",
       "      <td>308</td>\n",
       "      <td>0</td>\n",
       "      <td>33</td>\n",
       "      <td>0.029591</td>\n",
       "      <td>-1.474420</td>\n",
       "      <td>267.871</td>\n",
       "      <td>-29.6712</td>\n",
       "      <td>4672</td>\n",
       "      <td>11.858</td>\n",
       "      <td>1.780</td>\n",
       "      <td>...</td>\n",
       "      <td>0</td>\n",
       "      <td>0</td>\n",
       "      <td>8532560.0</td>\n",
       "      <td>0</td>\n",
       "      <td>2543740.000</td>\n",
       "      <td>10.510452</td>\n",
       "      <td>ombin</td>\n",
       "      <td>0.271423</td>\n",
       "      <td>ombin_0_33_308</td>\n",
       "      <td>18</td>\n",
       "    </tr>\n",
       "  </tbody>\n",
       "</table>\n",
       "<p>5 rows × 71 columns</p>\n",
       "</div>"
      ]
     },
     "execution_count": 6,
     "metadata": {},
     "output_type": "execute_result"
    }
   ],
   "execution_count": 6
  },
  {
   "metadata": {},
   "cell_type": "markdown",
   "source": "## Reading the lightcurve data",
   "id": "b068bbe804af0fb9"
  },
  {
   "metadata": {
    "ExecuteTime": {
     "end_time": "2024-05-01T23:07:23.534140Z",
     "start_time": "2024-05-01T23:07:23.510085Z"
    }
   },
   "cell_type": "code",
   "source": [
    "lightcurve_5_df = dcr.lightcurve_data_reader(data_challenge_lc_number_=5, folder_path_='../data')\n",
    "lightcurve_5_df"
   ],
   "id": "840393e549ea9828",
   "outputs": [
    {
     "data": {
      "text/plain": [
       "                BJD  Magnitude     Error          days\n",
       "0      2.458347e+06  20.514539  0.007972   8346.505461\n",
       "1      2.458347e+06  20.515869  0.007982   8346.515987\n",
       "2      2.458347e+06  20.516997  0.007990   8346.526513\n",
       "3      2.458347e+06  20.510812  0.007945   8346.537040\n",
       "4      2.458347e+06  20.527297  0.008066   8346.547566\n",
       "...             ...        ...       ...           ...\n",
       "38563  2.460059e+06  20.526572  0.008061  10059.199338\n",
       "38564  2.460059e+06  20.520230  0.008014  10059.209864\n",
       "38565  2.460059e+06  20.532172  0.008103  10059.220391\n",
       "38566  2.460059e+06  20.523268  0.008037  10059.230917\n",
       "38567  2.460059e+06  20.508572  0.007929  10059.241444\n",
       "\n",
       "[38568 rows x 4 columns]"
      ],
      "text/html": [
       "<div>\n",
       "<style scoped>\n",
       "    .dataframe tbody tr th:only-of-type {\n",
       "        vertical-align: middle;\n",
       "    }\n",
       "\n",
       "    .dataframe tbody tr th {\n",
       "        vertical-align: top;\n",
       "    }\n",
       "\n",
       "    .dataframe thead th {\n",
       "        text-align: right;\n",
       "    }\n",
       "</style>\n",
       "<table border=\"1\" class=\"dataframe\">\n",
       "  <thead>\n",
       "    <tr style=\"text-align: right;\">\n",
       "      <th></th>\n",
       "      <th>BJD</th>\n",
       "      <th>Magnitude</th>\n",
       "      <th>Error</th>\n",
       "      <th>days</th>\n",
       "    </tr>\n",
       "  </thead>\n",
       "  <tbody>\n",
       "    <tr>\n",
       "      <th>0</th>\n",
       "      <td>2.458347e+06</td>\n",
       "      <td>20.514539</td>\n",
       "      <td>0.007972</td>\n",
       "      <td>8346.505461</td>\n",
       "    </tr>\n",
       "    <tr>\n",
       "      <th>1</th>\n",
       "      <td>2.458347e+06</td>\n",
       "      <td>20.515869</td>\n",
       "      <td>0.007982</td>\n",
       "      <td>8346.515987</td>\n",
       "    </tr>\n",
       "    <tr>\n",
       "      <th>2</th>\n",
       "      <td>2.458347e+06</td>\n",
       "      <td>20.516997</td>\n",
       "      <td>0.007990</td>\n",
       "      <td>8346.526513</td>\n",
       "    </tr>\n",
       "    <tr>\n",
       "      <th>3</th>\n",
       "      <td>2.458347e+06</td>\n",
       "      <td>20.510812</td>\n",
       "      <td>0.007945</td>\n",
       "      <td>8346.537040</td>\n",
       "    </tr>\n",
       "    <tr>\n",
       "      <th>4</th>\n",
       "      <td>2.458347e+06</td>\n",
       "      <td>20.527297</td>\n",
       "      <td>0.008066</td>\n",
       "      <td>8346.547566</td>\n",
       "    </tr>\n",
       "    <tr>\n",
       "      <th>...</th>\n",
       "      <td>...</td>\n",
       "      <td>...</td>\n",
       "      <td>...</td>\n",
       "      <td>...</td>\n",
       "    </tr>\n",
       "    <tr>\n",
       "      <th>38563</th>\n",
       "      <td>2.460059e+06</td>\n",
       "      <td>20.526572</td>\n",
       "      <td>0.008061</td>\n",
       "      <td>10059.199338</td>\n",
       "    </tr>\n",
       "    <tr>\n",
       "      <th>38564</th>\n",
       "      <td>2.460059e+06</td>\n",
       "      <td>20.520230</td>\n",
       "      <td>0.008014</td>\n",
       "      <td>10059.209864</td>\n",
       "    </tr>\n",
       "    <tr>\n",
       "      <th>38565</th>\n",
       "      <td>2.460059e+06</td>\n",
       "      <td>20.532172</td>\n",
       "      <td>0.008103</td>\n",
       "      <td>10059.220391</td>\n",
       "    </tr>\n",
       "    <tr>\n",
       "      <th>38566</th>\n",
       "      <td>2.460059e+06</td>\n",
       "      <td>20.523268</td>\n",
       "      <td>0.008037</td>\n",
       "      <td>10059.230917</td>\n",
       "    </tr>\n",
       "    <tr>\n",
       "      <th>38567</th>\n",
       "      <td>2.460059e+06</td>\n",
       "      <td>20.508572</td>\n",
       "      <td>0.007929</td>\n",
       "      <td>10059.241444</td>\n",
       "    </tr>\n",
       "  </tbody>\n",
       "</table>\n",
       "<p>38568 rows × 4 columns</p>\n",
       "</div>"
      ]
     },
     "execution_count": 7,
     "metadata": {},
     "output_type": "execute_result"
    }
   ],
   "execution_count": 7
  },
  {
   "metadata": {
    "ExecuteTime": {
     "end_time": "2024-05-01T23:07:23.836500Z",
     "start_time": "2024-05-01T23:07:23.535748Z"
    }
   },
   "cell_type": "code",
   "source": [
    "plt.plot(lightcurve_5_df['days'], lightcurve_5_df['Magnitude'], 'o')\n",
    "plt.gca().invert_yaxis()"
   ],
   "id": "d45e8334fcc97702",
   "outputs": [
    {
     "data": {
      "text/plain": [
       "<Figure size 640x480 with 1 Axes>"
      ],
      "image/png": "[encoded data removed]"
     },
     "metadata": {},
     "output_type": "display_data"
    }
   ],
   "execution_count": 8
  },
  {
   "metadata": {},
   "cell_type": "markdown",
   "source": "## Extracting values from the master file ",
   "id": "cdf234c461e246d2"
  },
  {
   "metadata": {
    "ExecuteTime": {
     "end_time": "2024-05-01T23:07:23.841905Z",
     "start_time": "2024-05-01T23:07:23.837721Z"
    }
   },
   "cell_type": "code",
   "source": [
    "# Simple PSPL (Single-Lens) example\n",
    "# LC 5 is a single lens event\n",
    "\n",
    "lightcurve_5_master = single_lens_master_df[single_lens_master_df['data_challenge_lc_number'] == 5]\n",
    "t_0 = lightcurve_5_master['t0'].values[0]\n",
    "t_0 = np.nanmin(lightcurve_5_df['days']) + t_0 # correction for the minimum\n",
    "t_e = lightcurve_5_master['tE'].values[0]\n",
    "u_0 = lightcurve_5_master['u0'].values[0]"
   ],
   "id": "16893d7d402672b0",
   "outputs": [],
   "execution_count": 9
  },
  {
   "metadata": {
    "ExecuteTime": {
     "end_time": "2024-05-01T23:07:23.856970Z",
     "start_time": "2024-05-01T23:07:23.843163Z"
    }
   },
   "cell_type": "code",
   "source": "lightcurve_5_master",
   "id": "2bc78740297fb027",
   "outputs": [
    {
     "data": {
      "text/plain": [
       "    idx  subrun  field        l        b       ra      dec  src_id     Ds  \\\n",
       "0  1694       0     82  1.17028 -2.26944  269.319 -29.0889    9926  7.939   \n",
       "\n",
       "      Rs  ...  sigma_F01  sigma_fs1  sigma_thetaE  unimportant0  unimportant1  \\\n",
       "0  0.212  ...    76994.9    7414.03  3.440360e+09 -2.693630e+11  2.108980e+13   \n",
       "\n",
       "   unimportant2  event_type  unimportant3              lc_root  \\\n",
       "0       93.1194   dcnormffp      0.842367  dcnormffp_0_82_1694   \n",
       "\n",
       "   data_challenge_lc_number  \n",
       "0                         5  \n",
       "\n",
       "[1 rows x 86 columns]"
      ],
      "text/html": [
       "<div>\n",
       "<style scoped>\n",
       "    .dataframe tbody tr th:only-of-type {\n",
       "        vertical-align: middle;\n",
       "    }\n",
       "\n",
       "    .dataframe tbody tr th {\n",
       "        vertical-align: top;\n",
       "    }\n",
       "\n",
       "    .dataframe thead th {\n",
       "        text-align: right;\n",
       "    }\n",
       "</style>\n",
       "<table border=\"1\" class=\"dataframe\">\n",
       "  <thead>\n",
       "    <tr style=\"text-align: right;\">\n",
       "      <th></th>\n",
       "      <th>idx</th>\n",
       "      <th>subrun</th>\n",
       "      <th>field</th>\n",
       "      <th>l</th>\n",
       "      <th>b</th>\n",
       "      <th>ra</th>\n",
       "      <th>dec</th>\n",
       "      <th>src_id</th>\n",
       "      <th>Ds</th>\n",
       "      <th>Rs</th>\n",
       "      <th>...</th>\n",
       "      <th>sigma_F01</th>\n",
       "      <th>sigma_fs1</th>\n",
       "      <th>sigma_thetaE</th>\n",
       "      <th>unimportant0</th>\n",
       "      <th>unimportant1</th>\n",
       "      <th>unimportant2</th>\n",
       "      <th>event_type</th>\n",
       "      <th>unimportant3</th>\n",
       "      <th>lc_root</th>\n",
       "      <th>data_challenge_lc_number</th>\n",
       "    </tr>\n",
       "  </thead>\n",
       "  <tbody>\n",
       "    <tr>\n",
       "      <th>0</th>\n",
       "      <td>1694</td>\n",
       "      <td>0</td>\n",
       "      <td>82</td>\n",
       "      <td>1.17028</td>\n",
       "      <td>-2.26944</td>\n",
       "      <td>269.319</td>\n",
       "      <td>-29.0889</td>\n",
       "      <td>9926</td>\n",
       "      <td>7.939</td>\n",
       "      <td>0.212</td>\n",
       "      <td>...</td>\n",
       "      <td>76994.9</td>\n",
       "      <td>7414.03</td>\n",
       "      <td>3.440360e+09</td>\n",
       "      <td>-2.693630e+11</td>\n",
       "      <td>2.108980e+13</td>\n",
       "      <td>93.1194</td>\n",
       "      <td>dcnormffp</td>\n",
       "      <td>0.842367</td>\n",
       "      <td>dcnormffp_0_82_1694</td>\n",
       "      <td>5</td>\n",
       "    </tr>\n",
       "  </tbody>\n",
       "</table>\n",
       "<p>1 rows × 86 columns</p>\n",
       "</div>"
      ]
     },
     "execution_count": 10,
     "metadata": {},
     "output_type": "execute_result"
    }
   ],
   "execution_count": 10
  },
  {
   "metadata": {
    "ExecuteTime": {
     "end_time": "2024-05-01T23:07:23.860402Z",
     "start_time": "2024-05-01T23:07:23.858341Z"
    }
   },
   "cell_type": "code",
   "source": "",
   "id": "3384d4391806f494",
   "outputs": [],
   "execution_count": 10
  }
 ],
 "metadata": {
  "kernelspec": {
   "display_name": "Python (jasmine_env)",
   "language": "python",
   "name": "jasmine_env"
  },
  "language_info": {
   "codemirror_mode": {
    "name": "ipython",
    "version": 2
   },
   "file_extension": ".py",
   "mimetype": "text/x-python",
   "name": "python",
   "nbconvert_exporter": "python",
   "pygments_lexer": "ipython2",
   "version": "2.7.6"
  }
 },
 "nbformat": 4,
 "nbformat_minor": 5
}
